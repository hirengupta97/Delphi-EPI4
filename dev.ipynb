{
 "cells": [
  {
   "cell_type": "code",
   "execution_count": 1,
   "metadata": {},
   "outputs": [],
   "source": [
    "import pandas as pd\n",
    "import matplotlib.pyplot as plt\n",
    "import numpy as np\n",
    "from matplotlib.pyplot import figure\n",
    "import statistics\n",
    "from scipy.stats import norm\n",
    "from numpy.polynomial.polynomial import polyfit\n",
    "import warnings"
   ]
  },
  {
   "cell_type": "code",
   "execution_count": 2,
   "metadata": {},
   "outputs": [],
   "source": [
    "warnings.filterwarnings('ignore')"
   ]
  },
  {
   "cell_type": "code",
   "execution_count": 3,
   "metadata": {},
   "outputs": [],
   "source": [
    "#We are loading the four data files - query file and the results files\n",
    "query = pd.read_csv('queries-history.tsv', sep='\\t', header=None, names=[\"query_type\", \"sql_query\"])\n",
    "old_schema = pd.read_csv('results-v3-history.txt', sep=\" \")\n",
    "c_schema = pd.read_csv('results-v4.C-history.txt', sep=\" \")\n",
    "m_schema = pd.read_csv('results-v4.M-history.txt', sep=\" \")"
   ]
  },
  {
   "cell_type": "code",
   "execution_count": 4,
   "metadata": {},
   "outputs": [
    {
     "name": "stdout",
     "output_type": "stream",
     "text": [
      "19365 19359 19359 19359\n"
     ]
    }
   ],
   "source": [
    "#Comparing the shapes of the different files\n",
    "print(query.shape[0], old_schema.shape[0], c_schema.shape[0], m_schema.shape[0])"
   ]
  },
  {
   "cell_type": "markdown",
   "metadata": {},
   "source": [
    "It is important to check that the shapes of the files are the same so that we can match the right rows and perform the analyses. In this case, we can see that the number of results do not match the number of queries, so we need to merge the data correctly "
   ]
  },
  {
   "cell_type": "code",
   "execution_count": 5,
   "metadata": {},
   "outputs": [],
   "source": [
    "#We are adding the \"no\" column in this table as well\n",
    "query.insert(2, 'no', range(1, 1 + len(query)))"
   ]
  },
  {
   "cell_type": "code",
   "execution_count": 6,
   "metadata": {},
   "outputs": [
    {
     "data": {
      "text/html": [
       "<div>\n",
       "<style scoped>\n",
       "    .dataframe tbody tr th:only-of-type {\n",
       "        vertical-align: middle;\n",
       "    }\n",
       "\n",
       "    .dataframe tbody tr th {\n",
       "        vertical-align: top;\n",
       "    }\n",
       "\n",
       "    .dataframe thead th {\n",
       "        text-align: right;\n",
       "    }\n",
       "</style>\n",
       "<table border=\"1\" class=\"dataframe\">\n",
       "  <thead>\n",
       "    <tr style=\"text-align: right;\">\n",
       "      <th></th>\n",
       "      <th>query_type</th>\n",
       "      <th>sql_query</th>\n",
       "      <th>no</th>\n",
       "    </tr>\n",
       "  </thead>\n",
       "  <tbody>\n",
       "    <tr>\n",
       "      <th>0</th>\n",
       "      <td>asof-0x1__geo-0x1__signal-0x1__time-0x120</td>\n",
       "      <td>SELECT t.geo_value, t.signal, t.time_value, t....</td>\n",
       "      <td>1</td>\n",
       "    </tr>\n",
       "    <tr>\n",
       "      <th>1</th>\n",
       "      <td>asof-0x1__geo-0x1__signal-0x1__time-0x1</td>\n",
       "      <td>SELECT t.geo_value, t.signal, t.time_value, t....</td>\n",
       "      <td>2</td>\n",
       "    </tr>\n",
       "    <tr>\n",
       "      <th>2</th>\n",
       "      <td>asof-0x1__geo-0x1__signal-0x1__time-0x1</td>\n",
       "      <td>SELECT t.geo_value, t.signal, t.time_value, t....</td>\n",
       "      <td>3</td>\n",
       "    </tr>\n",
       "    <tr>\n",
       "      <th>3</th>\n",
       "      <td>asof-0x1__geo-0x1__signal-0x1__time-0x1</td>\n",
       "      <td>SELECT t.geo_value, t.signal, t.time_value, t....</td>\n",
       "      <td>4</td>\n",
       "    </tr>\n",
       "    <tr>\n",
       "      <th>4</th>\n",
       "      <td>asof-0x1__geo-0x1__signal-0x1__time-0x1</td>\n",
       "      <td>SELECT t.geo_value, t.signal, t.time_value, t....</td>\n",
       "      <td>5</td>\n",
       "    </tr>\n",
       "    <tr>\n",
       "      <th>...</th>\n",
       "      <td>...</td>\n",
       "      <td>...</td>\n",
       "      <td>...</td>\n",
       "    </tr>\n",
       "    <tr>\n",
       "      <th>19360</th>\n",
       "      <td>geo-0xSTAR__issue-0xRANGE__signal-0x1__time-0x1</td>\n",
       "      <td>SELECT t.geo_value, t.signal, t.time_value, t....</td>\n",
       "      <td>19361</td>\n",
       "    </tr>\n",
       "    <tr>\n",
       "      <th>19361</th>\n",
       "      <td>geo-0xSTAR__issue-0xRANGE__signal-0x1__time-0x1</td>\n",
       "      <td>SELECT t.geo_value, t.signal, t.time_value, t....</td>\n",
       "      <td>19362</td>\n",
       "    </tr>\n",
       "    <tr>\n",
       "      <th>19362</th>\n",
       "      <td>geo-0xSTAR__issue-0xRANGE__signal-0x1__time-0x1</td>\n",
       "      <td>SELECT t.geo_value, t.signal, t.time_value, t....</td>\n",
       "      <td>19363</td>\n",
       "    </tr>\n",
       "    <tr>\n",
       "      <th>19363</th>\n",
       "      <td>geo-0xSTAR__lag-0x1__signal-0x1__time-0x1</td>\n",
       "      <td>SELECT t.geo_value, t.signal, t.time_value, t....</td>\n",
       "      <td>19364</td>\n",
       "    </tr>\n",
       "    <tr>\n",
       "      <th>19364</th>\n",
       "      <td>geo-0xSTAR__lag-0x1__signal-0x1__time-0x3</td>\n",
       "      <td>SELECT t.geo_value, t.signal, t.time_value, t....</td>\n",
       "      <td>19365</td>\n",
       "    </tr>\n",
       "  </tbody>\n",
       "</table>\n",
       "<p>19365 rows × 3 columns</p>\n",
       "</div>"
      ],
      "text/plain": [
       "                                            query_type  \\\n",
       "0            asof-0x1__geo-0x1__signal-0x1__time-0x120   \n",
       "1              asof-0x1__geo-0x1__signal-0x1__time-0x1   \n",
       "2              asof-0x1__geo-0x1__signal-0x1__time-0x1   \n",
       "3              asof-0x1__geo-0x1__signal-0x1__time-0x1   \n",
       "4              asof-0x1__geo-0x1__signal-0x1__time-0x1   \n",
       "...                                                ...   \n",
       "19360  geo-0xSTAR__issue-0xRANGE__signal-0x1__time-0x1   \n",
       "19361  geo-0xSTAR__issue-0xRANGE__signal-0x1__time-0x1   \n",
       "19362  geo-0xSTAR__issue-0xRANGE__signal-0x1__time-0x1   \n",
       "19363        geo-0xSTAR__lag-0x1__signal-0x1__time-0x1   \n",
       "19364        geo-0xSTAR__lag-0x1__signal-0x1__time-0x3   \n",
       "\n",
       "                                               sql_query     no  \n",
       "0      SELECT t.geo_value, t.signal, t.time_value, t....      1  \n",
       "1      SELECT t.geo_value, t.signal, t.time_value, t....      2  \n",
       "2      SELECT t.geo_value, t.signal, t.time_value, t....      3  \n",
       "3      SELECT t.geo_value, t.signal, t.time_value, t....      4  \n",
       "4      SELECT t.geo_value, t.signal, t.time_value, t....      5  \n",
       "...                                                  ...    ...  \n",
       "19360  SELECT t.geo_value, t.signal, t.time_value, t....  19361  \n",
       "19361  SELECT t.geo_value, t.signal, t.time_value, t....  19362  \n",
       "19362  SELECT t.geo_value, t.signal, t.time_value, t....  19363  \n",
       "19363  SELECT t.geo_value, t.signal, t.time_value, t....  19364  \n",
       "19364  SELECT t.geo_value, t.signal, t.time_value, t....  19365  \n",
       "\n",
       "[19365 rows x 3 columns]"
      ]
     },
     "execution_count": 6,
     "metadata": {},
     "output_type": "execute_result"
    }
   ],
   "source": [
    "#A view of the query dataframe\n",
    "query"
   ]
  },
  {
   "cell_type": "code",
   "execution_count": 7,
   "metadata": {},
   "outputs": [
    {
     "data": {
      "text/html": [
       "<div>\n",
       "<style scoped>\n",
       "    .dataframe tbody tr th:only-of-type {\n",
       "        vertical-align: middle;\n",
       "    }\n",
       "\n",
       "    .dataframe tbody tr th {\n",
       "        vertical-align: top;\n",
       "    }\n",
       "\n",
       "    .dataframe thead th {\n",
       "        text-align: right;\n",
       "    }\n",
       "</style>\n",
       "<table border=\"1\" class=\"dataframe\">\n",
       "  <thead>\n",
       "    <tr style=\"text-align: right;\">\n",
       "      <th></th>\n",
       "      <th>no</th>\n",
       "      <th>real</th>\n",
       "      <th>user</th>\n",
       "      <th>sys</th>\n",
       "      <th>rows</th>\n",
       "    </tr>\n",
       "  </thead>\n",
       "  <tbody>\n",
       "    <tr>\n",
       "      <th>0</th>\n",
       "      <td>1</td>\n",
       "      <td>0.424</td>\n",
       "      <td>0.003</td>\n",
       "      <td>0.003</td>\n",
       "      <td>120</td>\n",
       "    </tr>\n",
       "    <tr>\n",
       "      <th>1</th>\n",
       "      <td>2</td>\n",
       "      <td>0.035</td>\n",
       "      <td>0.006</td>\n",
       "      <td>0.000</td>\n",
       "      <td>0</td>\n",
       "    </tr>\n",
       "    <tr>\n",
       "      <th>2</th>\n",
       "      <td>3</td>\n",
       "      <td>0.015</td>\n",
       "      <td>0.005</td>\n",
       "      <td>0.000</td>\n",
       "      <td>0</td>\n",
       "    </tr>\n",
       "    <tr>\n",
       "      <th>3</th>\n",
       "      <td>4</td>\n",
       "      <td>0.013</td>\n",
       "      <td>0.005</td>\n",
       "      <td>0.000</td>\n",
       "      <td>0</td>\n",
       "    </tr>\n",
       "    <tr>\n",
       "      <th>4</th>\n",
       "      <td>5</td>\n",
       "      <td>0.015</td>\n",
       "      <td>0.005</td>\n",
       "      <td>0.000</td>\n",
       "      <td>0</td>\n",
       "    </tr>\n",
       "    <tr>\n",
       "      <th>...</th>\n",
       "      <td>...</td>\n",
       "      <td>...</td>\n",
       "      <td>...</td>\n",
       "      <td>...</td>\n",
       "      <td>...</td>\n",
       "    </tr>\n",
       "    <tr>\n",
       "      <th>19354</th>\n",
       "      <td>19361</td>\n",
       "      <td>0.118</td>\n",
       "      <td>0.009</td>\n",
       "      <td>0.000</td>\n",
       "      <td>3651</td>\n",
       "    </tr>\n",
       "    <tr>\n",
       "      <th>19355</th>\n",
       "      <td>19362</td>\n",
       "      <td>0.119</td>\n",
       "      <td>0.009</td>\n",
       "      <td>0.000</td>\n",
       "      <td>3651</td>\n",
       "    </tr>\n",
       "    <tr>\n",
       "      <th>19356</th>\n",
       "      <td>19363</td>\n",
       "      <td>0.113</td>\n",
       "      <td>0.010</td>\n",
       "      <td>0.000</td>\n",
       "      <td>3651</td>\n",
       "    </tr>\n",
       "    <tr>\n",
       "      <th>19357</th>\n",
       "      <td>19364</td>\n",
       "      <td>0.082</td>\n",
       "      <td>0.000</td>\n",
       "      <td>0.005</td>\n",
       "      <td>0</td>\n",
       "    </tr>\n",
       "    <tr>\n",
       "      <th>19358</th>\n",
       "      <td>19365</td>\n",
       "      <td>4.786</td>\n",
       "      <td>0.005</td>\n",
       "      <td>0.000</td>\n",
       "      <td>0</td>\n",
       "    </tr>\n",
       "  </tbody>\n",
       "</table>\n",
       "<p>19359 rows × 5 columns</p>\n",
       "</div>"
      ],
      "text/plain": [
       "          no   real   user    sys  rows\n",
       "0          1  0.424  0.003  0.003   120\n",
       "1          2  0.035  0.006  0.000     0\n",
       "2          3  0.015  0.005  0.000     0\n",
       "3          4  0.013  0.005  0.000     0\n",
       "4          5  0.015  0.005  0.000     0\n",
       "...      ...    ...    ...    ...   ...\n",
       "19354  19361  0.118  0.009  0.000  3651\n",
       "19355  19362  0.119  0.009  0.000  3651\n",
       "19356  19363  0.113  0.010  0.000  3651\n",
       "19357  19364  0.082  0.000  0.005     0\n",
       "19358  19365  4.786  0.005  0.000     0\n",
       "\n",
       "[19359 rows x 5 columns]"
      ]
     },
     "execution_count": 7,
     "metadata": {},
     "output_type": "execute_result"
    }
   ],
   "source": [
    "#A view of the old schema results dataframe\n",
    "old_schema"
   ]
  },
  {
   "cell_type": "code",
   "execution_count": 8,
   "metadata": {},
   "outputs": [
    {
     "data": {
      "text/html": [
       "<div>\n",
       "<style scoped>\n",
       "    .dataframe tbody tr th:only-of-type {\n",
       "        vertical-align: middle;\n",
       "    }\n",
       "\n",
       "    .dataframe tbody tr th {\n",
       "        vertical-align: top;\n",
       "    }\n",
       "\n",
       "    .dataframe thead th {\n",
       "        text-align: right;\n",
       "    }\n",
       "</style>\n",
       "<table border=\"1\" class=\"dataframe\">\n",
       "  <thead>\n",
       "    <tr style=\"text-align: right;\">\n",
       "      <th></th>\n",
       "      <th>no</th>\n",
       "      <th>real</th>\n",
       "      <th>user</th>\n",
       "      <th>sys</th>\n",
       "      <th>rows</th>\n",
       "    </tr>\n",
       "  </thead>\n",
       "  <tbody>\n",
       "    <tr>\n",
       "      <th>0</th>\n",
       "      <td>1</td>\n",
       "      <td>1.316</td>\n",
       "      <td>0.000</td>\n",
       "      <td>0.011</td>\n",
       "      <td>120</td>\n",
       "    </tr>\n",
       "    <tr>\n",
       "      <th>1</th>\n",
       "      <td>2</td>\n",
       "      <td>0.058</td>\n",
       "      <td>0.004</td>\n",
       "      <td>0.002</td>\n",
       "      <td>0</td>\n",
       "    </tr>\n",
       "    <tr>\n",
       "      <th>2</th>\n",
       "      <td>3</td>\n",
       "      <td>0.043</td>\n",
       "      <td>0.001</td>\n",
       "      <td>0.005</td>\n",
       "      <td>0</td>\n",
       "    </tr>\n",
       "    <tr>\n",
       "      <th>3</th>\n",
       "      <td>4</td>\n",
       "      <td>0.039</td>\n",
       "      <td>0.000</td>\n",
       "      <td>0.006</td>\n",
       "      <td>0</td>\n",
       "    </tr>\n",
       "    <tr>\n",
       "      <th>4</th>\n",
       "      <td>5</td>\n",
       "      <td>0.031</td>\n",
       "      <td>0.000</td>\n",
       "      <td>0.006</td>\n",
       "      <td>0</td>\n",
       "    </tr>\n",
       "    <tr>\n",
       "      <th>...</th>\n",
       "      <td>...</td>\n",
       "      <td>...</td>\n",
       "      <td>...</td>\n",
       "      <td>...</td>\n",
       "      <td>...</td>\n",
       "    </tr>\n",
       "    <tr>\n",
       "      <th>19354</th>\n",
       "      <td>19361</td>\n",
       "      <td>2.506</td>\n",
       "      <td>0.007</td>\n",
       "      <td>0.003</td>\n",
       "      <td>3651</td>\n",
       "    </tr>\n",
       "    <tr>\n",
       "      <th>19355</th>\n",
       "      <td>19362</td>\n",
       "      <td>1.472</td>\n",
       "      <td>0.000</td>\n",
       "      <td>0.010</td>\n",
       "      <td>3651</td>\n",
       "    </tr>\n",
       "    <tr>\n",
       "      <th>19356</th>\n",
       "      <td>19363</td>\n",
       "      <td>2.505</td>\n",
       "      <td>0.011</td>\n",
       "      <td>0.000</td>\n",
       "      <td>3651</td>\n",
       "    </tr>\n",
       "    <tr>\n",
       "      <th>19357</th>\n",
       "      <td>19364</td>\n",
       "      <td>0.186</td>\n",
       "      <td>0.006</td>\n",
       "      <td>0.001</td>\n",
       "      <td>0</td>\n",
       "    </tr>\n",
       "    <tr>\n",
       "      <th>19358</th>\n",
       "      <td>19365</td>\n",
       "      <td>4.795</td>\n",
       "      <td>0.006</td>\n",
       "      <td>0.000</td>\n",
       "      <td>0</td>\n",
       "    </tr>\n",
       "  </tbody>\n",
       "</table>\n",
       "<p>19359 rows × 5 columns</p>\n",
       "</div>"
      ],
      "text/plain": [
       "          no   real   user    sys  rows\n",
       "0          1  1.316  0.000  0.011   120\n",
       "1          2  0.058  0.004  0.002     0\n",
       "2          3  0.043  0.001  0.005     0\n",
       "3          4  0.039  0.000  0.006     0\n",
       "4          5  0.031  0.000  0.006     0\n",
       "...      ...    ...    ...    ...   ...\n",
       "19354  19361  2.506  0.007  0.003  3651\n",
       "19355  19362  1.472  0.000  0.010  3651\n",
       "19356  19363  2.505  0.011  0.000  3651\n",
       "19357  19364  0.186  0.006  0.001     0\n",
       "19358  19365  4.795  0.006  0.000     0\n",
       "\n",
       "[19359 rows x 5 columns]"
      ]
     },
     "execution_count": 8,
     "metadata": {},
     "output_type": "execute_result"
    }
   ],
   "source": [
    "#A view of the C schema results dataframe\n",
    "c_schema"
   ]
  },
  {
   "cell_type": "code",
   "execution_count": 9,
   "metadata": {},
   "outputs": [
    {
     "data": {
      "text/html": [
       "<div>\n",
       "<style scoped>\n",
       "    .dataframe tbody tr th:only-of-type {\n",
       "        vertical-align: middle;\n",
       "    }\n",
       "\n",
       "    .dataframe tbody tr th {\n",
       "        vertical-align: top;\n",
       "    }\n",
       "\n",
       "    .dataframe thead th {\n",
       "        text-align: right;\n",
       "    }\n",
       "</style>\n",
       "<table border=\"1\" class=\"dataframe\">\n",
       "  <thead>\n",
       "    <tr style=\"text-align: right;\">\n",
       "      <th></th>\n",
       "      <th>no</th>\n",
       "      <th>real</th>\n",
       "      <th>user</th>\n",
       "      <th>sys</th>\n",
       "      <th>rows</th>\n",
       "    </tr>\n",
       "  </thead>\n",
       "  <tbody>\n",
       "    <tr>\n",
       "      <th>0</th>\n",
       "      <td>1</td>\n",
       "      <td>1.838</td>\n",
       "      <td>0.007</td>\n",
       "      <td>0.000</td>\n",
       "      <td>120</td>\n",
       "    </tr>\n",
       "    <tr>\n",
       "      <th>1</th>\n",
       "      <td>2</td>\n",
       "      <td>0.012</td>\n",
       "      <td>0.006</td>\n",
       "      <td>0.000</td>\n",
       "      <td>0</td>\n",
       "    </tr>\n",
       "    <tr>\n",
       "      <th>2</th>\n",
       "      <td>3</td>\n",
       "      <td>0.011</td>\n",
       "      <td>0.005</td>\n",
       "      <td>0.000</td>\n",
       "      <td>0</td>\n",
       "    </tr>\n",
       "    <tr>\n",
       "      <th>3</th>\n",
       "      <td>4</td>\n",
       "      <td>0.011</td>\n",
       "      <td>0.005</td>\n",
       "      <td>0.000</td>\n",
       "      <td>0</td>\n",
       "    </tr>\n",
       "    <tr>\n",
       "      <th>4</th>\n",
       "      <td>5</td>\n",
       "      <td>0.011</td>\n",
       "      <td>0.005</td>\n",
       "      <td>0.000</td>\n",
       "      <td>0</td>\n",
       "    </tr>\n",
       "    <tr>\n",
       "      <th>...</th>\n",
       "      <td>...</td>\n",
       "      <td>...</td>\n",
       "      <td>...</td>\n",
       "      <td>...</td>\n",
       "      <td>...</td>\n",
       "    </tr>\n",
       "    <tr>\n",
       "      <th>19354</th>\n",
       "      <td>19361</td>\n",
       "      <td>2.127</td>\n",
       "      <td>0.007</td>\n",
       "      <td>0.003</td>\n",
       "      <td>3651</td>\n",
       "    </tr>\n",
       "    <tr>\n",
       "      <th>19355</th>\n",
       "      <td>19362</td>\n",
       "      <td>1.714</td>\n",
       "      <td>0.010</td>\n",
       "      <td>0.000</td>\n",
       "      <td>3651</td>\n",
       "    </tr>\n",
       "    <tr>\n",
       "      <th>19356</th>\n",
       "      <td>19363</td>\n",
       "      <td>3.304</td>\n",
       "      <td>0.011</td>\n",
       "      <td>0.000</td>\n",
       "      <td>3651</td>\n",
       "    </tr>\n",
       "    <tr>\n",
       "      <th>19357</th>\n",
       "      <td>19364</td>\n",
       "      <td>0.291</td>\n",
       "      <td>0.006</td>\n",
       "      <td>0.000</td>\n",
       "      <td>0</td>\n",
       "    </tr>\n",
       "    <tr>\n",
       "      <th>19358</th>\n",
       "      <td>19365</td>\n",
       "      <td>11.804</td>\n",
       "      <td>0.006</td>\n",
       "      <td>0.000</td>\n",
       "      <td>0</td>\n",
       "    </tr>\n",
       "  </tbody>\n",
       "</table>\n",
       "<p>19359 rows × 5 columns</p>\n",
       "</div>"
      ],
      "text/plain": [
       "          no    real   user    sys  rows\n",
       "0          1   1.838  0.007  0.000   120\n",
       "1          2   0.012  0.006  0.000     0\n",
       "2          3   0.011  0.005  0.000     0\n",
       "3          4   0.011  0.005  0.000     0\n",
       "4          5   0.011  0.005  0.000     0\n",
       "...      ...     ...    ...    ...   ...\n",
       "19354  19361   2.127  0.007  0.003  3651\n",
       "19355  19362   1.714  0.010  0.000  3651\n",
       "19356  19363   3.304  0.011  0.000  3651\n",
       "19357  19364   0.291  0.006  0.000     0\n",
       "19358  19365  11.804  0.006  0.000     0\n",
       "\n",
       "[19359 rows x 5 columns]"
      ]
     },
     "execution_count": 9,
     "metadata": {},
     "output_type": "execute_result"
    }
   ],
   "source": [
    "#A view of the M schema results dataframe\n",
    "m_schema"
   ]
  },
  {
   "cell_type": "markdown",
   "metadata": {},
   "source": [
    "Now we merge the data and we do not do inner join to avoid loss of data."
   ]
  },
  {
   "cell_type": "code",
   "execution_count": 10,
   "metadata": {},
   "outputs": [],
   "source": [
    "#We merge the data here\n",
    "old_schema = pd.merge(old_schema, query[[\"query_type\",\"no\"]], on ='no', how ='left')\n",
    "c_schema = pd.merge(c_schema, query[[\"query_type\",\"no\"]], on ='no', how ='left')\n",
    "m_schema = pd.merge(m_schema, query[[\"query_type\",\"no\"]], on ='no', how ='left')"
   ]
  },
  {
   "cell_type": "code",
   "execution_count": 11,
   "metadata": {},
   "outputs": [
    {
     "data": {
      "text/html": [
       "<div>\n",
       "<style scoped>\n",
       "    .dataframe tbody tr th:only-of-type {\n",
       "        vertical-align: middle;\n",
       "    }\n",
       "\n",
       "    .dataframe tbody tr th {\n",
       "        vertical-align: top;\n",
       "    }\n",
       "\n",
       "    .dataframe thead th {\n",
       "        text-align: right;\n",
       "    }\n",
       "</style>\n",
       "<table border=\"1\" class=\"dataframe\">\n",
       "  <thead>\n",
       "    <tr style=\"text-align: right;\">\n",
       "      <th></th>\n",
       "      <th>no</th>\n",
       "      <th>real</th>\n",
       "      <th>user</th>\n",
       "      <th>sys</th>\n",
       "      <th>rows</th>\n",
       "      <th>query_type</th>\n",
       "    </tr>\n",
       "  </thead>\n",
       "  <tbody>\n",
       "    <tr>\n",
       "      <th>0</th>\n",
       "      <td>1</td>\n",
       "      <td>0.424</td>\n",
       "      <td>0.003</td>\n",
       "      <td>0.003</td>\n",
       "      <td>120</td>\n",
       "      <td>asof-0x1__geo-0x1__signal-0x1__time-0x120</td>\n",
       "    </tr>\n",
       "    <tr>\n",
       "      <th>1</th>\n",
       "      <td>2</td>\n",
       "      <td>0.035</td>\n",
       "      <td>0.006</td>\n",
       "      <td>0.000</td>\n",
       "      <td>0</td>\n",
       "      <td>asof-0x1__geo-0x1__signal-0x1__time-0x1</td>\n",
       "    </tr>\n",
       "    <tr>\n",
       "      <th>2</th>\n",
       "      <td>3</td>\n",
       "      <td>0.015</td>\n",
       "      <td>0.005</td>\n",
       "      <td>0.000</td>\n",
       "      <td>0</td>\n",
       "      <td>asof-0x1__geo-0x1__signal-0x1__time-0x1</td>\n",
       "    </tr>\n",
       "    <tr>\n",
       "      <th>3</th>\n",
       "      <td>4</td>\n",
       "      <td>0.013</td>\n",
       "      <td>0.005</td>\n",
       "      <td>0.000</td>\n",
       "      <td>0</td>\n",
       "      <td>asof-0x1__geo-0x1__signal-0x1__time-0x1</td>\n",
       "    </tr>\n",
       "    <tr>\n",
       "      <th>4</th>\n",
       "      <td>5</td>\n",
       "      <td>0.015</td>\n",
       "      <td>0.005</td>\n",
       "      <td>0.000</td>\n",
       "      <td>0</td>\n",
       "      <td>asof-0x1__geo-0x1__signal-0x1__time-0x1</td>\n",
       "    </tr>\n",
       "    <tr>\n",
       "      <th>...</th>\n",
       "      <td>...</td>\n",
       "      <td>...</td>\n",
       "      <td>...</td>\n",
       "      <td>...</td>\n",
       "      <td>...</td>\n",
       "      <td>...</td>\n",
       "    </tr>\n",
       "    <tr>\n",
       "      <th>19354</th>\n",
       "      <td>19361</td>\n",
       "      <td>0.118</td>\n",
       "      <td>0.009</td>\n",
       "      <td>0.000</td>\n",
       "      <td>3651</td>\n",
       "      <td>geo-0xSTAR__issue-0xRANGE__signal-0x1__time-0x1</td>\n",
       "    </tr>\n",
       "    <tr>\n",
       "      <th>19355</th>\n",
       "      <td>19362</td>\n",
       "      <td>0.119</td>\n",
       "      <td>0.009</td>\n",
       "      <td>0.000</td>\n",
       "      <td>3651</td>\n",
       "      <td>geo-0xSTAR__issue-0xRANGE__signal-0x1__time-0x1</td>\n",
       "    </tr>\n",
       "    <tr>\n",
       "      <th>19356</th>\n",
       "      <td>19363</td>\n",
       "      <td>0.113</td>\n",
       "      <td>0.010</td>\n",
       "      <td>0.000</td>\n",
       "      <td>3651</td>\n",
       "      <td>geo-0xSTAR__issue-0xRANGE__signal-0x1__time-0x1</td>\n",
       "    </tr>\n",
       "    <tr>\n",
       "      <th>19357</th>\n",
       "      <td>19364</td>\n",
       "      <td>0.082</td>\n",
       "      <td>0.000</td>\n",
       "      <td>0.005</td>\n",
       "      <td>0</td>\n",
       "      <td>geo-0xSTAR__lag-0x1__signal-0x1__time-0x1</td>\n",
       "    </tr>\n",
       "    <tr>\n",
       "      <th>19358</th>\n",
       "      <td>19365</td>\n",
       "      <td>4.786</td>\n",
       "      <td>0.005</td>\n",
       "      <td>0.000</td>\n",
       "      <td>0</td>\n",
       "      <td>geo-0xSTAR__lag-0x1__signal-0x1__time-0x3</td>\n",
       "    </tr>\n",
       "  </tbody>\n",
       "</table>\n",
       "<p>19359 rows × 6 columns</p>\n",
       "</div>"
      ],
      "text/plain": [
       "          no   real   user    sys  rows  \\\n",
       "0          1  0.424  0.003  0.003   120   \n",
       "1          2  0.035  0.006  0.000     0   \n",
       "2          3  0.015  0.005  0.000     0   \n",
       "3          4  0.013  0.005  0.000     0   \n",
       "4          5  0.015  0.005  0.000     0   \n",
       "...      ...    ...    ...    ...   ...   \n",
       "19354  19361  0.118  0.009  0.000  3651   \n",
       "19355  19362  0.119  0.009  0.000  3651   \n",
       "19356  19363  0.113  0.010  0.000  3651   \n",
       "19357  19364  0.082  0.000  0.005     0   \n",
       "19358  19365  4.786  0.005  0.000     0   \n",
       "\n",
       "                                            query_type  \n",
       "0            asof-0x1__geo-0x1__signal-0x1__time-0x120  \n",
       "1              asof-0x1__geo-0x1__signal-0x1__time-0x1  \n",
       "2              asof-0x1__geo-0x1__signal-0x1__time-0x1  \n",
       "3              asof-0x1__geo-0x1__signal-0x1__time-0x1  \n",
       "4              asof-0x1__geo-0x1__signal-0x1__time-0x1  \n",
       "...                                                ...  \n",
       "19354  geo-0xSTAR__issue-0xRANGE__signal-0x1__time-0x1  \n",
       "19355  geo-0xSTAR__issue-0xRANGE__signal-0x1__time-0x1  \n",
       "19356  geo-0xSTAR__issue-0xRANGE__signal-0x1__time-0x1  \n",
       "19357        geo-0xSTAR__lag-0x1__signal-0x1__time-0x1  \n",
       "19358        geo-0xSTAR__lag-0x1__signal-0x1__time-0x3  \n",
       "\n",
       "[19359 rows x 6 columns]"
      ]
     },
     "execution_count": 11,
     "metadata": {},
     "output_type": "execute_result"
    }
   ],
   "source": [
    "#A new view of the old schema results dataframe\n",
    "old_schema"
   ]
  },
  {
   "cell_type": "markdown",
   "metadata": {},
   "source": [
    "Now we want to extract the geographical, signal, time, and publication values from the query_type so we parse it. We do it for all the results history."
   ]
  },
  {
   "cell_type": "code",
   "execution_count": 12,
   "metadata": {},
   "outputs": [],
   "source": [
    "#We extract the information from the four given axes using the apply function for the old schema\n",
    "old_schema[\"geo\"] = old_schema.apply(lambda x: str([sub for sub in x.query_type.split(sep=\"__\") if \"geo\" in sub][0]).split(sep=\"-\")[1][2::], axis=1)\n",
    "old_schema[\"signal\"] = old_schema.apply(lambda x: str([sub for sub in x.query_type.split(sep=\"__\") if \"signal\" in sub][0]).split(sep=\"-\")[1][2::], axis=1)\n",
    "old_schema[\"time\"] = old_schema.apply(lambda x: str([sub for sub in x.query_type.split(sep=\"__\") if \"time\" in sub][0]).split(sep=\"-\")[1][2::], axis=1)\n",
    "old_schema[\"publication\"] = old_schema.apply(lambda x: str([sub for sub in x.query_type.split(sep=\"__\") if (\"asof\" in sub) or (\"issue\" in sub) or (\"lag\" in sub) or (\"latest\" in sub)][0]).split(sep=\"-\")[1][2::], axis=1)"
   ]
  },
  {
   "cell_type": "code",
   "execution_count": 13,
   "metadata": {},
   "outputs": [
    {
     "data": {
      "text/html": [
       "<div>\n",
       "<style scoped>\n",
       "    .dataframe tbody tr th:only-of-type {\n",
       "        vertical-align: middle;\n",
       "    }\n",
       "\n",
       "    .dataframe tbody tr th {\n",
       "        vertical-align: top;\n",
       "    }\n",
       "\n",
       "    .dataframe thead th {\n",
       "        text-align: right;\n",
       "    }\n",
       "</style>\n",
       "<table border=\"1\" class=\"dataframe\">\n",
       "  <thead>\n",
       "    <tr style=\"text-align: right;\">\n",
       "      <th></th>\n",
       "      <th>no</th>\n",
       "      <th>real</th>\n",
       "      <th>user</th>\n",
       "      <th>sys</th>\n",
       "      <th>rows</th>\n",
       "      <th>query_type</th>\n",
       "      <th>geo</th>\n",
       "      <th>signal</th>\n",
       "      <th>time</th>\n",
       "      <th>publication</th>\n",
       "    </tr>\n",
       "  </thead>\n",
       "  <tbody>\n",
       "    <tr>\n",
       "      <th>0</th>\n",
       "      <td>1</td>\n",
       "      <td>0.424</td>\n",
       "      <td>0.003</td>\n",
       "      <td>0.003</td>\n",
       "      <td>120</td>\n",
       "      <td>asof-0x1__geo-0x1__signal-0x1__time-0x120</td>\n",
       "      <td>1</td>\n",
       "      <td>1</td>\n",
       "      <td>120</td>\n",
       "      <td>1</td>\n",
       "    </tr>\n",
       "    <tr>\n",
       "      <th>1</th>\n",
       "      <td>2</td>\n",
       "      <td>0.035</td>\n",
       "      <td>0.006</td>\n",
       "      <td>0.000</td>\n",
       "      <td>0</td>\n",
       "      <td>asof-0x1__geo-0x1__signal-0x1__time-0x1</td>\n",
       "      <td>1</td>\n",
       "      <td>1</td>\n",
       "      <td>1</td>\n",
       "      <td>1</td>\n",
       "    </tr>\n",
       "    <tr>\n",
       "      <th>2</th>\n",
       "      <td>3</td>\n",
       "      <td>0.015</td>\n",
       "      <td>0.005</td>\n",
       "      <td>0.000</td>\n",
       "      <td>0</td>\n",
       "      <td>asof-0x1__geo-0x1__signal-0x1__time-0x1</td>\n",
       "      <td>1</td>\n",
       "      <td>1</td>\n",
       "      <td>1</td>\n",
       "      <td>1</td>\n",
       "    </tr>\n",
       "    <tr>\n",
       "      <th>3</th>\n",
       "      <td>4</td>\n",
       "      <td>0.013</td>\n",
       "      <td>0.005</td>\n",
       "      <td>0.000</td>\n",
       "      <td>0</td>\n",
       "      <td>asof-0x1__geo-0x1__signal-0x1__time-0x1</td>\n",
       "      <td>1</td>\n",
       "      <td>1</td>\n",
       "      <td>1</td>\n",
       "      <td>1</td>\n",
       "    </tr>\n",
       "    <tr>\n",
       "      <th>4</th>\n",
       "      <td>5</td>\n",
       "      <td>0.015</td>\n",
       "      <td>0.005</td>\n",
       "      <td>0.000</td>\n",
       "      <td>0</td>\n",
       "      <td>asof-0x1__geo-0x1__signal-0x1__time-0x1</td>\n",
       "      <td>1</td>\n",
       "      <td>1</td>\n",
       "      <td>1</td>\n",
       "      <td>1</td>\n",
       "    </tr>\n",
       "    <tr>\n",
       "      <th>...</th>\n",
       "      <td>...</td>\n",
       "      <td>...</td>\n",
       "      <td>...</td>\n",
       "      <td>...</td>\n",
       "      <td>...</td>\n",
       "      <td>...</td>\n",
       "      <td>...</td>\n",
       "      <td>...</td>\n",
       "      <td>...</td>\n",
       "      <td>...</td>\n",
       "    </tr>\n",
       "    <tr>\n",
       "      <th>19354</th>\n",
       "      <td>19361</td>\n",
       "      <td>0.118</td>\n",
       "      <td>0.009</td>\n",
       "      <td>0.000</td>\n",
       "      <td>3651</td>\n",
       "      <td>geo-0xSTAR__issue-0xRANGE__signal-0x1__time-0x1</td>\n",
       "      <td>STAR</td>\n",
       "      <td>1</td>\n",
       "      <td>1</td>\n",
       "      <td>RANGE</td>\n",
       "    </tr>\n",
       "    <tr>\n",
       "      <th>19355</th>\n",
       "      <td>19362</td>\n",
       "      <td>0.119</td>\n",
       "      <td>0.009</td>\n",
       "      <td>0.000</td>\n",
       "      <td>3651</td>\n",
       "      <td>geo-0xSTAR__issue-0xRANGE__signal-0x1__time-0x1</td>\n",
       "      <td>STAR</td>\n",
       "      <td>1</td>\n",
       "      <td>1</td>\n",
       "      <td>RANGE</td>\n",
       "    </tr>\n",
       "    <tr>\n",
       "      <th>19356</th>\n",
       "      <td>19363</td>\n",
       "      <td>0.113</td>\n",
       "      <td>0.010</td>\n",
       "      <td>0.000</td>\n",
       "      <td>3651</td>\n",
       "      <td>geo-0xSTAR__issue-0xRANGE__signal-0x1__time-0x1</td>\n",
       "      <td>STAR</td>\n",
       "      <td>1</td>\n",
       "      <td>1</td>\n",
       "      <td>RANGE</td>\n",
       "    </tr>\n",
       "    <tr>\n",
       "      <th>19357</th>\n",
       "      <td>19364</td>\n",
       "      <td>0.082</td>\n",
       "      <td>0.000</td>\n",
       "      <td>0.005</td>\n",
       "      <td>0</td>\n",
       "      <td>geo-0xSTAR__lag-0x1__signal-0x1__time-0x1</td>\n",
       "      <td>STAR</td>\n",
       "      <td>1</td>\n",
       "      <td>1</td>\n",
       "      <td>1</td>\n",
       "    </tr>\n",
       "    <tr>\n",
       "      <th>19358</th>\n",
       "      <td>19365</td>\n",
       "      <td>4.786</td>\n",
       "      <td>0.005</td>\n",
       "      <td>0.000</td>\n",
       "      <td>0</td>\n",
       "      <td>geo-0xSTAR__lag-0x1__signal-0x1__time-0x3</td>\n",
       "      <td>STAR</td>\n",
       "      <td>1</td>\n",
       "      <td>3</td>\n",
       "      <td>1</td>\n",
       "    </tr>\n",
       "  </tbody>\n",
       "</table>\n",
       "<p>19359 rows × 10 columns</p>\n",
       "</div>"
      ],
      "text/plain": [
       "          no   real   user    sys  rows  \\\n",
       "0          1  0.424  0.003  0.003   120   \n",
       "1          2  0.035  0.006  0.000     0   \n",
       "2          3  0.015  0.005  0.000     0   \n",
       "3          4  0.013  0.005  0.000     0   \n",
       "4          5  0.015  0.005  0.000     0   \n",
       "...      ...    ...    ...    ...   ...   \n",
       "19354  19361  0.118  0.009  0.000  3651   \n",
       "19355  19362  0.119  0.009  0.000  3651   \n",
       "19356  19363  0.113  0.010  0.000  3651   \n",
       "19357  19364  0.082  0.000  0.005     0   \n",
       "19358  19365  4.786  0.005  0.000     0   \n",
       "\n",
       "                                            query_type   geo signal time  \\\n",
       "0            asof-0x1__geo-0x1__signal-0x1__time-0x120     1      1  120   \n",
       "1              asof-0x1__geo-0x1__signal-0x1__time-0x1     1      1    1   \n",
       "2              asof-0x1__geo-0x1__signal-0x1__time-0x1     1      1    1   \n",
       "3              asof-0x1__geo-0x1__signal-0x1__time-0x1     1      1    1   \n",
       "4              asof-0x1__geo-0x1__signal-0x1__time-0x1     1      1    1   \n",
       "...                                                ...   ...    ...  ...   \n",
       "19354  geo-0xSTAR__issue-0xRANGE__signal-0x1__time-0x1  STAR      1    1   \n",
       "19355  geo-0xSTAR__issue-0xRANGE__signal-0x1__time-0x1  STAR      1    1   \n",
       "19356  geo-0xSTAR__issue-0xRANGE__signal-0x1__time-0x1  STAR      1    1   \n",
       "19357        geo-0xSTAR__lag-0x1__signal-0x1__time-0x1  STAR      1    1   \n",
       "19358        geo-0xSTAR__lag-0x1__signal-0x1__time-0x3  STAR      1    3   \n",
       "\n",
       "      publication  \n",
       "0               1  \n",
       "1               1  \n",
       "2               1  \n",
       "3               1  \n",
       "4               1  \n",
       "...           ...  \n",
       "19354       RANGE  \n",
       "19355       RANGE  \n",
       "19356       RANGE  \n",
       "19357           1  \n",
       "19358           1  \n",
       "\n",
       "[19359 rows x 10 columns]"
      ]
     },
     "execution_count": 13,
     "metadata": {},
     "output_type": "execute_result"
    }
   ],
   "source": [
    "#A newer view of the old schema results dataframe with the axes information\n",
    "old_schema"
   ]
  },
  {
   "cell_type": "code",
   "execution_count": 14,
   "metadata": {},
   "outputs": [],
   "source": [
    "#We extract the information from the four given axes using the apply function for the C schema\n",
    "c_schema[\"geo\"] = c_schema.apply(lambda x: str([sub for sub in x.query_type.split(sep=\"__\") if \"geo\" in sub][0]).split(sep=\"-\")[1][2::], axis=1)\n",
    "c_schema[\"signal\"] = c_schema.apply(lambda x: str([sub for sub in x.query_type.split(sep=\"__\") if \"signal\" in sub][0]).split(sep=\"-\")[1][2::], axis=1)\n",
    "c_schema[\"time\"] = c_schema.apply(lambda x: str([sub for sub in x.query_type.split(sep=\"__\") if \"time\" in sub][0]).split(sep=\"-\")[1][2::], axis=1)\n",
    "c_schema[\"publication\"] = c_schema.apply(lambda x: str([sub for sub in x.query_type.split(sep=\"__\") if (\"asof\" in sub) or (\"issue\" in sub) or (\"lag\" in sub) or (\"latest\" in sub)][0]).split(sep=\"-\")[1][2::], axis=1)"
   ]
  },
  {
   "cell_type": "code",
   "execution_count": 15,
   "metadata": {},
   "outputs": [],
   "source": [
    "#We extract the information from the four given axes using the apply function for the M schema\n",
    "m_schema[\"geo\"] = m_schema.apply(lambda x: str([sub for sub in x.query_type.split(sep=\"__\") if \"geo\" in sub][0]).split(sep=\"-\")[1][2::], axis=1)\n",
    "m_schema[\"signal\"] = m_schema.apply(lambda x: str([sub for sub in x.query_type.split(sep=\"__\") if \"signal\" in sub][0]).split(sep=\"-\")[1][2::], axis=1)\n",
    "m_schema[\"time\"] = m_schema.apply(lambda x: str([sub for sub in x.query_type.split(sep=\"__\") if \"time\" in sub][0]).split(sep=\"-\")[1][2::], axis=1)\n",
    "m_schema[\"publication\"] = m_schema.apply(lambda x: str([sub for sub in x.query_type.split(sep=\"__\") if (\"asof\" in sub) or (\"issue\" in sub) or (\"lag\" in sub) or (\"latest\" in sub)][0]).split(sep=\"-\")[1][2::], axis=1)"
   ]
  },
  {
   "cell_type": "code",
   "execution_count": 16,
   "metadata": {},
   "outputs": [
    {
     "data": {
      "text/html": [
       "<div>\n",
       "<style scoped>\n",
       "    .dataframe tbody tr th:only-of-type {\n",
       "        vertical-align: middle;\n",
       "    }\n",
       "\n",
       "    .dataframe tbody tr th {\n",
       "        vertical-align: top;\n",
       "    }\n",
       "\n",
       "    .dataframe thead th {\n",
       "        text-align: right;\n",
       "    }\n",
       "</style>\n",
       "<table border=\"1\" class=\"dataframe\">\n",
       "  <thead>\n",
       "    <tr style=\"text-align: right;\">\n",
       "      <th></th>\n",
       "      <th>no</th>\n",
       "      <th>real</th>\n",
       "      <th>user</th>\n",
       "      <th>sys</th>\n",
       "      <th>rows</th>\n",
       "      <th>query_type</th>\n",
       "      <th>geo</th>\n",
       "      <th>signal</th>\n",
       "      <th>time</th>\n",
       "      <th>publication</th>\n",
       "    </tr>\n",
       "  </thead>\n",
       "  <tbody>\n",
       "    <tr>\n",
       "      <th>0</th>\n",
       "      <td>1</td>\n",
       "      <td>1.316</td>\n",
       "      <td>0.000</td>\n",
       "      <td>0.011</td>\n",
       "      <td>120</td>\n",
       "      <td>asof-0x1__geo-0x1__signal-0x1__time-0x120</td>\n",
       "      <td>1</td>\n",
       "      <td>1</td>\n",
       "      <td>120</td>\n",
       "      <td>1</td>\n",
       "    </tr>\n",
       "    <tr>\n",
       "      <th>1</th>\n",
       "      <td>2</td>\n",
       "      <td>0.058</td>\n",
       "      <td>0.004</td>\n",
       "      <td>0.002</td>\n",
       "      <td>0</td>\n",
       "      <td>asof-0x1__geo-0x1__signal-0x1__time-0x1</td>\n",
       "      <td>1</td>\n",
       "      <td>1</td>\n",
       "      <td>1</td>\n",
       "      <td>1</td>\n",
       "    </tr>\n",
       "    <tr>\n",
       "      <th>2</th>\n",
       "      <td>3</td>\n",
       "      <td>0.043</td>\n",
       "      <td>0.001</td>\n",
       "      <td>0.005</td>\n",
       "      <td>0</td>\n",
       "      <td>asof-0x1__geo-0x1__signal-0x1__time-0x1</td>\n",
       "      <td>1</td>\n",
       "      <td>1</td>\n",
       "      <td>1</td>\n",
       "      <td>1</td>\n",
       "    </tr>\n",
       "    <tr>\n",
       "      <th>3</th>\n",
       "      <td>4</td>\n",
       "      <td>0.039</td>\n",
       "      <td>0.000</td>\n",
       "      <td>0.006</td>\n",
       "      <td>0</td>\n",
       "      <td>asof-0x1__geo-0x1__signal-0x1__time-0x1</td>\n",
       "      <td>1</td>\n",
       "      <td>1</td>\n",
       "      <td>1</td>\n",
       "      <td>1</td>\n",
       "    </tr>\n",
       "    <tr>\n",
       "      <th>4</th>\n",
       "      <td>5</td>\n",
       "      <td>0.031</td>\n",
       "      <td>0.000</td>\n",
       "      <td>0.006</td>\n",
       "      <td>0</td>\n",
       "      <td>asof-0x1__geo-0x1__signal-0x1__time-0x1</td>\n",
       "      <td>1</td>\n",
       "      <td>1</td>\n",
       "      <td>1</td>\n",
       "      <td>1</td>\n",
       "    </tr>\n",
       "    <tr>\n",
       "      <th>...</th>\n",
       "      <td>...</td>\n",
       "      <td>...</td>\n",
       "      <td>...</td>\n",
       "      <td>...</td>\n",
       "      <td>...</td>\n",
       "      <td>...</td>\n",
       "      <td>...</td>\n",
       "      <td>...</td>\n",
       "      <td>...</td>\n",
       "      <td>...</td>\n",
       "    </tr>\n",
       "    <tr>\n",
       "      <th>19354</th>\n",
       "      <td>19361</td>\n",
       "      <td>2.506</td>\n",
       "      <td>0.007</td>\n",
       "      <td>0.003</td>\n",
       "      <td>3651</td>\n",
       "      <td>geo-0xSTAR__issue-0xRANGE__signal-0x1__time-0x1</td>\n",
       "      <td>STAR</td>\n",
       "      <td>1</td>\n",
       "      <td>1</td>\n",
       "      <td>RANGE</td>\n",
       "    </tr>\n",
       "    <tr>\n",
       "      <th>19355</th>\n",
       "      <td>19362</td>\n",
       "      <td>1.472</td>\n",
       "      <td>0.000</td>\n",
       "      <td>0.010</td>\n",
       "      <td>3651</td>\n",
       "      <td>geo-0xSTAR__issue-0xRANGE__signal-0x1__time-0x1</td>\n",
       "      <td>STAR</td>\n",
       "      <td>1</td>\n",
       "      <td>1</td>\n",
       "      <td>RANGE</td>\n",
       "    </tr>\n",
       "    <tr>\n",
       "      <th>19356</th>\n",
       "      <td>19363</td>\n",
       "      <td>2.505</td>\n",
       "      <td>0.011</td>\n",
       "      <td>0.000</td>\n",
       "      <td>3651</td>\n",
       "      <td>geo-0xSTAR__issue-0xRANGE__signal-0x1__time-0x1</td>\n",
       "      <td>STAR</td>\n",
       "      <td>1</td>\n",
       "      <td>1</td>\n",
       "      <td>RANGE</td>\n",
       "    </tr>\n",
       "    <tr>\n",
       "      <th>19357</th>\n",
       "      <td>19364</td>\n",
       "      <td>0.186</td>\n",
       "      <td>0.006</td>\n",
       "      <td>0.001</td>\n",
       "      <td>0</td>\n",
       "      <td>geo-0xSTAR__lag-0x1__signal-0x1__time-0x1</td>\n",
       "      <td>STAR</td>\n",
       "      <td>1</td>\n",
       "      <td>1</td>\n",
       "      <td>1</td>\n",
       "    </tr>\n",
       "    <tr>\n",
       "      <th>19358</th>\n",
       "      <td>19365</td>\n",
       "      <td>4.795</td>\n",
       "      <td>0.006</td>\n",
       "      <td>0.000</td>\n",
       "      <td>0</td>\n",
       "      <td>geo-0xSTAR__lag-0x1__signal-0x1__time-0x3</td>\n",
       "      <td>STAR</td>\n",
       "      <td>1</td>\n",
       "      <td>3</td>\n",
       "      <td>1</td>\n",
       "    </tr>\n",
       "  </tbody>\n",
       "</table>\n",
       "<p>19359 rows × 10 columns</p>\n",
       "</div>"
      ],
      "text/plain": [
       "          no   real   user    sys  rows  \\\n",
       "0          1  1.316  0.000  0.011   120   \n",
       "1          2  0.058  0.004  0.002     0   \n",
       "2          3  0.043  0.001  0.005     0   \n",
       "3          4  0.039  0.000  0.006     0   \n",
       "4          5  0.031  0.000  0.006     0   \n",
       "...      ...    ...    ...    ...   ...   \n",
       "19354  19361  2.506  0.007  0.003  3651   \n",
       "19355  19362  1.472  0.000  0.010  3651   \n",
       "19356  19363  2.505  0.011  0.000  3651   \n",
       "19357  19364  0.186  0.006  0.001     0   \n",
       "19358  19365  4.795  0.006  0.000     0   \n",
       "\n",
       "                                            query_type   geo signal time  \\\n",
       "0            asof-0x1__geo-0x1__signal-0x1__time-0x120     1      1  120   \n",
       "1              asof-0x1__geo-0x1__signal-0x1__time-0x1     1      1    1   \n",
       "2              asof-0x1__geo-0x1__signal-0x1__time-0x1     1      1    1   \n",
       "3              asof-0x1__geo-0x1__signal-0x1__time-0x1     1      1    1   \n",
       "4              asof-0x1__geo-0x1__signal-0x1__time-0x1     1      1    1   \n",
       "...                                                ...   ...    ...  ...   \n",
       "19354  geo-0xSTAR__issue-0xRANGE__signal-0x1__time-0x1  STAR      1    1   \n",
       "19355  geo-0xSTAR__issue-0xRANGE__signal-0x1__time-0x1  STAR      1    1   \n",
       "19356  geo-0xSTAR__issue-0xRANGE__signal-0x1__time-0x1  STAR      1    1   \n",
       "19357        geo-0xSTAR__lag-0x1__signal-0x1__time-0x1  STAR      1    1   \n",
       "19358        geo-0xSTAR__lag-0x1__signal-0x1__time-0x3  STAR      1    3   \n",
       "\n",
       "      publication  \n",
       "0               1  \n",
       "1               1  \n",
       "2               1  \n",
       "3               1  \n",
       "4               1  \n",
       "...           ...  \n",
       "19354       RANGE  \n",
       "19355       RANGE  \n",
       "19356       RANGE  \n",
       "19357           1  \n",
       "19358           1  \n",
       "\n",
       "[19359 rows x 10 columns]"
      ]
     },
     "execution_count": 16,
     "metadata": {},
     "output_type": "execute_result"
    }
   ],
   "source": [
    "#A newer view of the C schema results dataframe with the axes information\n",
    "c_schema"
   ]
  },
  {
   "cell_type": "code",
   "execution_count": 17,
   "metadata": {},
   "outputs": [
    {
     "data": {
      "text/html": [
       "<div>\n",
       "<style scoped>\n",
       "    .dataframe tbody tr th:only-of-type {\n",
       "        vertical-align: middle;\n",
       "    }\n",
       "\n",
       "    .dataframe tbody tr th {\n",
       "        vertical-align: top;\n",
       "    }\n",
       "\n",
       "    .dataframe thead th {\n",
       "        text-align: right;\n",
       "    }\n",
       "</style>\n",
       "<table border=\"1\" class=\"dataframe\">\n",
       "  <thead>\n",
       "    <tr style=\"text-align: right;\">\n",
       "      <th></th>\n",
       "      <th>no</th>\n",
       "      <th>real</th>\n",
       "      <th>user</th>\n",
       "      <th>sys</th>\n",
       "      <th>rows</th>\n",
       "      <th>query_type</th>\n",
       "      <th>geo</th>\n",
       "      <th>signal</th>\n",
       "      <th>time</th>\n",
       "      <th>publication</th>\n",
       "    </tr>\n",
       "  </thead>\n",
       "  <tbody>\n",
       "    <tr>\n",
       "      <th>0</th>\n",
       "      <td>1</td>\n",
       "      <td>1.838</td>\n",
       "      <td>0.007</td>\n",
       "      <td>0.000</td>\n",
       "      <td>120</td>\n",
       "      <td>asof-0x1__geo-0x1__signal-0x1__time-0x120</td>\n",
       "      <td>1</td>\n",
       "      <td>1</td>\n",
       "      <td>120</td>\n",
       "      <td>1</td>\n",
       "    </tr>\n",
       "    <tr>\n",
       "      <th>1</th>\n",
       "      <td>2</td>\n",
       "      <td>0.012</td>\n",
       "      <td>0.006</td>\n",
       "      <td>0.000</td>\n",
       "      <td>0</td>\n",
       "      <td>asof-0x1__geo-0x1__signal-0x1__time-0x1</td>\n",
       "      <td>1</td>\n",
       "      <td>1</td>\n",
       "      <td>1</td>\n",
       "      <td>1</td>\n",
       "    </tr>\n",
       "    <tr>\n",
       "      <th>2</th>\n",
       "      <td>3</td>\n",
       "      <td>0.011</td>\n",
       "      <td>0.005</td>\n",
       "      <td>0.000</td>\n",
       "      <td>0</td>\n",
       "      <td>asof-0x1__geo-0x1__signal-0x1__time-0x1</td>\n",
       "      <td>1</td>\n",
       "      <td>1</td>\n",
       "      <td>1</td>\n",
       "      <td>1</td>\n",
       "    </tr>\n",
       "    <tr>\n",
       "      <th>3</th>\n",
       "      <td>4</td>\n",
       "      <td>0.011</td>\n",
       "      <td>0.005</td>\n",
       "      <td>0.000</td>\n",
       "      <td>0</td>\n",
       "      <td>asof-0x1__geo-0x1__signal-0x1__time-0x1</td>\n",
       "      <td>1</td>\n",
       "      <td>1</td>\n",
       "      <td>1</td>\n",
       "      <td>1</td>\n",
       "    </tr>\n",
       "    <tr>\n",
       "      <th>4</th>\n",
       "      <td>5</td>\n",
       "      <td>0.011</td>\n",
       "      <td>0.005</td>\n",
       "      <td>0.000</td>\n",
       "      <td>0</td>\n",
       "      <td>asof-0x1__geo-0x1__signal-0x1__time-0x1</td>\n",
       "      <td>1</td>\n",
       "      <td>1</td>\n",
       "      <td>1</td>\n",
       "      <td>1</td>\n",
       "    </tr>\n",
       "    <tr>\n",
       "      <th>...</th>\n",
       "      <td>...</td>\n",
       "      <td>...</td>\n",
       "      <td>...</td>\n",
       "      <td>...</td>\n",
       "      <td>...</td>\n",
       "      <td>...</td>\n",
       "      <td>...</td>\n",
       "      <td>...</td>\n",
       "      <td>...</td>\n",
       "      <td>...</td>\n",
       "    </tr>\n",
       "    <tr>\n",
       "      <th>19354</th>\n",
       "      <td>19361</td>\n",
       "      <td>2.127</td>\n",
       "      <td>0.007</td>\n",
       "      <td>0.003</td>\n",
       "      <td>3651</td>\n",
       "      <td>geo-0xSTAR__issue-0xRANGE__signal-0x1__time-0x1</td>\n",
       "      <td>STAR</td>\n",
       "      <td>1</td>\n",
       "      <td>1</td>\n",
       "      <td>RANGE</td>\n",
       "    </tr>\n",
       "    <tr>\n",
       "      <th>19355</th>\n",
       "      <td>19362</td>\n",
       "      <td>1.714</td>\n",
       "      <td>0.010</td>\n",
       "      <td>0.000</td>\n",
       "      <td>3651</td>\n",
       "      <td>geo-0xSTAR__issue-0xRANGE__signal-0x1__time-0x1</td>\n",
       "      <td>STAR</td>\n",
       "      <td>1</td>\n",
       "      <td>1</td>\n",
       "      <td>RANGE</td>\n",
       "    </tr>\n",
       "    <tr>\n",
       "      <th>19356</th>\n",
       "      <td>19363</td>\n",
       "      <td>3.304</td>\n",
       "      <td>0.011</td>\n",
       "      <td>0.000</td>\n",
       "      <td>3651</td>\n",
       "      <td>geo-0xSTAR__issue-0xRANGE__signal-0x1__time-0x1</td>\n",
       "      <td>STAR</td>\n",
       "      <td>1</td>\n",
       "      <td>1</td>\n",
       "      <td>RANGE</td>\n",
       "    </tr>\n",
       "    <tr>\n",
       "      <th>19357</th>\n",
       "      <td>19364</td>\n",
       "      <td>0.291</td>\n",
       "      <td>0.006</td>\n",
       "      <td>0.000</td>\n",
       "      <td>0</td>\n",
       "      <td>geo-0xSTAR__lag-0x1__signal-0x1__time-0x1</td>\n",
       "      <td>STAR</td>\n",
       "      <td>1</td>\n",
       "      <td>1</td>\n",
       "      <td>1</td>\n",
       "    </tr>\n",
       "    <tr>\n",
       "      <th>19358</th>\n",
       "      <td>19365</td>\n",
       "      <td>11.804</td>\n",
       "      <td>0.006</td>\n",
       "      <td>0.000</td>\n",
       "      <td>0</td>\n",
       "      <td>geo-0xSTAR__lag-0x1__signal-0x1__time-0x3</td>\n",
       "      <td>STAR</td>\n",
       "      <td>1</td>\n",
       "      <td>3</td>\n",
       "      <td>1</td>\n",
       "    </tr>\n",
       "  </tbody>\n",
       "</table>\n",
       "<p>19359 rows × 10 columns</p>\n",
       "</div>"
      ],
      "text/plain": [
       "          no    real   user    sys  rows  \\\n",
       "0          1   1.838  0.007  0.000   120   \n",
       "1          2   0.012  0.006  0.000     0   \n",
       "2          3   0.011  0.005  0.000     0   \n",
       "3          4   0.011  0.005  0.000     0   \n",
       "4          5   0.011  0.005  0.000     0   \n",
       "...      ...     ...    ...    ...   ...   \n",
       "19354  19361   2.127  0.007  0.003  3651   \n",
       "19355  19362   1.714  0.010  0.000  3651   \n",
       "19356  19363   3.304  0.011  0.000  3651   \n",
       "19357  19364   0.291  0.006  0.000     0   \n",
       "19358  19365  11.804  0.006  0.000     0   \n",
       "\n",
       "                                            query_type   geo signal time  \\\n",
       "0            asof-0x1__geo-0x1__signal-0x1__time-0x120     1      1  120   \n",
       "1              asof-0x1__geo-0x1__signal-0x1__time-0x1     1      1    1   \n",
       "2              asof-0x1__geo-0x1__signal-0x1__time-0x1     1      1    1   \n",
       "3              asof-0x1__geo-0x1__signal-0x1__time-0x1     1      1    1   \n",
       "4              asof-0x1__geo-0x1__signal-0x1__time-0x1     1      1    1   \n",
       "...                                                ...   ...    ...  ...   \n",
       "19354  geo-0xSTAR__issue-0xRANGE__signal-0x1__time-0x1  STAR      1    1   \n",
       "19355  geo-0xSTAR__issue-0xRANGE__signal-0x1__time-0x1  STAR      1    1   \n",
       "19356  geo-0xSTAR__issue-0xRANGE__signal-0x1__time-0x1  STAR      1    1   \n",
       "19357        geo-0xSTAR__lag-0x1__signal-0x1__time-0x1  STAR      1    1   \n",
       "19358        geo-0xSTAR__lag-0x1__signal-0x1__time-0x3  STAR      1    3   \n",
       "\n",
       "      publication  \n",
       "0               1  \n",
       "1               1  \n",
       "2               1  \n",
       "3               1  \n",
       "4               1  \n",
       "...           ...  \n",
       "19354       RANGE  \n",
       "19355       RANGE  \n",
       "19356       RANGE  \n",
       "19357           1  \n",
       "19358           1  \n",
       "\n",
       "[19359 rows x 10 columns]"
      ]
     },
     "execution_count": 17,
     "metadata": {},
     "output_type": "execute_result"
    }
   ],
   "source": [
    "#A newer view of the M schema results dataframe with the axes information\n",
    "m_schema"
   ]
  },
  {
   "cell_type": "markdown",
   "metadata": {},
   "source": [
    "Before we perform any deep analyses, it would be important to go through the distribution of the real running time for all the three schemas to see if there are any major or significant differences."
   ]
  },
  {
   "cell_type": "code",
   "execution_count": 18,
   "metadata": {},
   "outputs": [
    {
     "data": {
      "text/plain": [
       "Text(0, 0.5, 'Frequency')"
      ]
     },
     "execution_count": 18,
     "metadata": {},
     "output_type": "execute_result"
    },
    {
     "data": {
      "image/png": "[encoded data removed]",
      "text/plain": [
       "<Figure size 320x240 with 1 Axes>"
      ]
     },
     "metadata": {
      "needs_background": "light"
     },
     "output_type": "display_data"
    }
   ],
   "source": [
    "figure(figsize=(4, 3), dpi=80)\n",
    "old_freq = old_schema[\"real\"].value_counts().plot(kind=\"bar\", width=0.1)\n",
    "old_freq.set_xlim(-0.5, 10)\n",
    "old_freq.axes.get_xaxis().set_visible(False)\n",
    "plt.title(\"Real Running-Time Distribution for Old Schema\", fontsize=10)\n",
    "plt.xlabel(\"Running-Time\")\n",
    "plt.ylabel(\"Frequency\")"
   ]
  },
  {
   "cell_type": "code",
   "execution_count": 19,
   "metadata": {},
   "outputs": [
    {
     "data": {
      "text/plain": [
       "Text(0, 0.5, 'Frequency')"
      ]
     },
     "execution_count": 19,
     "metadata": {},
     "output_type": "execute_result"
    },
    {
     "data": {
      "image/png": "[encoded data removed]",
      "text/plain": [
       "<Figure size 320x240 with 1 Axes>"
      ]
     },
     "metadata": {
      "needs_background": "light"
     },
     "output_type": "display_data"
    }
   ],
   "source": [
    "figure(figsize=(4, 3), dpi=80)\n",
    "c_freq = c_schema[\"real\"].value_counts().plot(kind=\"bar\", width=0.1)\n",
    "c_freq.set_xlim(-0.5, 10)\n",
    "c_freq.axes.get_xaxis().set_visible(False)\n",
    "plt.title(\"Real Running-Time Distribution for C Schema\", fontsize=10)\n",
    "plt.xlabel(\"Running-Time\")\n",
    "plt.ylabel(\"Frequency\")"
   ]
  },
  {
   "cell_type": "code",
   "execution_count": 20,
   "metadata": {},
   "outputs": [
    {
     "data": {
      "text/plain": [
       "Text(0, 0.5, 'Frequency')"
      ]
     },
     "execution_count": 20,
     "metadata": {},
     "output_type": "execute_result"
    },
    {
     "data": {
      "image/png": "[encoded data removed]",
      "text/plain": [
       "<Figure size 320x240 with 1 Axes>"
      ]
     },
     "metadata": {
      "needs_background": "light"
     },
     "output_type": "display_data"
    }
   ],
   "source": [
    "figure(figsize=(4, 3), dpi=80)\n",
    "m_freq = m_schema[\"real\"].value_counts().plot(kind=\"bar\", width=0.1)\n",
    "m_freq.set_xlim(-0.5, 10)\n",
    "m_freq.axes.get_xaxis().set_visible(False)\n",
    "plt.title(\"Real Running-Time Distribution for M Schema\", fontsize=10)\n",
    "plt.xlabel(\"Running-Time\")\n",
    "plt.ylabel(\"Frequency\")"
   ]
  },
  {
   "cell_type": "markdown",
   "metadata": {},
   "source": [
    "The three plots show that the distribution for the real run-time is quite similar, therefore learning from the summary statistics would be helpful for each of the three schemas."
   ]
  },
  {
   "cell_type": "code",
   "execution_count": 21,
   "metadata": {},
   "outputs": [
    {
     "name": "stdout",
     "output_type": "stream",
     "text": [
      "[0.028, 17.121, 0.005] [0.061, 15.997, 0.005] [0.062, 12.788, 0.005]\n"
     ]
    }
   ],
   "source": [
    "#summary for real time - mean, max, min\n",
    "old_stats_real = [round(old_schema.loc[:, 'real'].mean(), 3), old_schema.loc[:, 'real'].max(), old_schema.loc[:, 'real'].min()]\n",
    "c_stats_real = [round(c_schema.loc[:, 'real'].mean(), 3), c_schema.loc[:, 'real'].max(), c_schema.loc[:, 'real'].min()]\n",
    "m_stats_real = [round(m_schema.loc[:, 'real'].mean(), 3), m_schema.loc[:, 'real'].max(), m_schema.loc[:, 'real'].min()]\n",
    "print(old_stats_real, c_stats_real, m_stats_real)"
   ]
  },
  {
   "cell_type": "code",
   "execution_count": 22,
   "metadata": {},
   "outputs": [
    {
     "name": "stdout",
     "output_type": "stream",
     "text": [
      "[0.004, 0.024, 0.0] [0.004, 0.025, 0.0] [0.004, 0.026, 0.0]\n"
     ]
    }
   ],
   "source": [
    "#summary for user time - mean, max, min\n",
    "old_stats_user = [round(old_schema.loc[:, 'user'].mean(), 3), old_schema.loc[:, 'user'].max(), old_schema.loc[:, 'user'].min()]\n",
    "c_stats_user = [round(c_schema.loc[:, 'user'].mean(), 3), c_schema.loc[:, 'user'].max(), c_schema.loc[:, 'user'].min()]\n",
    "m_stats_user = [round(m_schema.loc[:, 'user'].mean(), 3), m_schema.loc[:, 'user'].max(), m_schema.loc[:, 'user'].min()]\n",
    "print(old_stats_user, c_stats_user, m_stats_user)"
   ]
  },
  {
   "cell_type": "code",
   "execution_count": 23,
   "metadata": {},
   "outputs": [
    {
     "name": "stdout",
     "output_type": "stream",
     "text": [
      "[0.002, 0.01, 0.0] [0.002, 0.011, 0.0] [0.002, 0.011, 0.0]\n"
     ]
    }
   ],
   "source": [
    "#summary for kernel time - mean, max, min\n",
    "old_stats_kernel = [round(old_schema.loc[:, 'sys'].mean(), 3), old_schema.loc[:, 'sys'].max(), old_schema.loc[:, 'sys'].min()]\n",
    "c_stats_kernel = [round(c_schema.loc[:, 'sys'].mean(), 3), c_schema.loc[:, 'sys'].max(), c_schema.loc[:, 'sys'].min()]\n",
    "m_stats_kernel = [round(m_schema.loc[:, 'sys'].mean(), 3), m_schema.loc[:, 'sys'].max(), m_schema.loc[:, 'sys'].min()]\n",
    "print(old_stats_kernel, c_stats_kernel, m_stats_kernel)"
   ]
  },
  {
   "cell_type": "code",
   "execution_count": 24,
   "metadata": {},
   "outputs": [
    {
     "name": "stdout",
     "output_type": "stream",
     "text": [
      "The average real running time for old schema is 0.028 unix utility, but the worst case and the best-case run-time for old schema are 17.121 unix utility and 0.005 unix utility, respectively.\n",
      "On the other hand, the average real running time for C schema is 0.061 unix utility, but the worst case and the best-case run-time for C schema are 15.997 unix utility and 0.005 unix utility, respectively.\n",
      "Finally, the average real running time for M schema is 0.062 unix utility, but the worst case and the best-case run-time for M schema are 12.788 unix utility and 0.005 unix utility, respectively.\n"
     ]
    }
   ],
   "source": [
    "print(\"The average real running time for old schema is \" + str(old_stats_real[0]) + \" unix utility, but the worst case and the best-case run-time for old schema are \" + str(old_stats_real[1]) + \" unix utility and \" + str(old_stats_real[2]) + \" unix utility, respectively.\")\n",
    "print(\"On the other hand, the average real running time for C schema is \" + str(c_stats_real[0]) + \" unix utility, but the worst case and the best-case run-time for C schema are \" + str(c_stats_real[1]) + \" unix utility and \" + str(c_stats_real[2]) + \" unix utility, respectively.\")\n",
    "print(\"Finally, the average real running time for M schema is \" + str(m_stats_real[0]) + \" unix utility, but the worst case and the best-case run-time for M schema are \" + str(m_stats_real[1]) + \" unix utility and \" + str(m_stats_real[2]) + \" unix utility, respectively.\")"
   ]
  },
  {
   "cell_type": "code",
   "execution_count": 25,
   "metadata": {},
   "outputs": [
    {
     "name": "stdout",
     "output_type": "stream",
     "text": [
      "Similarly, we also learn that the average user running time for old schema is 0.004 unix utility, but the worst case and the best-case run-time for old schema are 0.024 unix utility and 0.0 unix utility, respectively.\n",
      "On the other hand, the average user running time for C schema is 0.004 unix utility, but the worst case and the best-case run-time for C schema are 0.025 unix utility and 0.0 unix utility, respectively.\n",
      "Finally, the average user running time for M schema is 0.004 unix utility, but the worst case and the best-case run-time for M schema are 0.026 unix utility and 0.0 unix utility, respectively.\n"
     ]
    }
   ],
   "source": [
    "print(\"Similarly, we also learn that the average user running time for old schema is \" + str(old_stats_user[0]) + \" unix utility, but the worst case and the best-case run-time for old schema are \" + str(old_stats_user[1]) + \" unix utility and \" + str(old_stats_user[2]) + \" unix utility, respectively.\")\n",
    "print(\"On the other hand, the average user running time for C schema is \" + str(c_stats_user[0]) + \" unix utility, but the worst case and the best-case run-time for C schema are \" + str(c_stats_user[1]) + \" unix utility and \" + str(c_stats_user[2]) + \" unix utility, respectively.\")\n",
    "print(\"Finally, the average user running time for M schema is \" + str(m_stats_user[0]) + \" unix utility, but the worst case and the best-case run-time for M schema are \" + str(m_stats_user[1]) + \" unix utility and \" + str(m_stats_user[2]) + \" unix utility, respectively.\")"
   ]
  },
  {
   "cell_type": "code",
   "execution_count": 26,
   "metadata": {},
   "outputs": [
    {
     "name": "stdout",
     "output_type": "stream",
     "text": [
      "[230.558, 19494, 0] [230.558, 19494, 0] [230.558, 19494, 0]\n"
     ]
    }
   ],
   "source": [
    "#summary for rows - mean, max, min\n",
    "old_stats_rows = [round(old_schema.loc[:, 'rows'].mean(), 3), old_schema.loc[:, 'rows'].max(), old_schema.loc[:, 'rows'].min()]\n",
    "c_stats_rows = [round(c_schema.loc[:, 'rows'].mean(), 3), c_schema.loc[:, 'rows'].max(), c_schema.loc[:, 'rows'].min()]\n",
    "m_stats_rows = [round(m_schema.loc[:, 'rows'].mean(), 3), m_schema.loc[:, 'rows'].max(), m_schema.loc[:, 'rows'].min()]\n",
    "print(old_stats_rows, c_stats_rows, m_stats_rows)"
   ]
  },
  {
   "cell_type": "markdown",
   "metadata": {},
   "source": [
    "We expected the exact same results for rows for each of the three schemas as the same queries were ran for each of the schemas."
   ]
  },
  {
   "cell_type": "markdown",
   "metadata": {},
   "source": [
    "We can see that there are some differences in the summary statistics across the three schemas, so we could compare the summary statistics of the three schemas. Before performing some analyses on the above discussed factors, it would be beneficial to check if we have any high correlations as all the data is explaining different types of running time."
   ]
  },
  {
   "cell_type": "code",
   "execution_count": 27,
   "metadata": {},
   "outputs": [
    {
     "name": "stdout",
     "output_type": "stream",
     "text": [
      "            no      real      user       sys      rows\n",
      "no    1.000000 -0.132603 -0.007649 -0.022921  0.021041\n",
      "real -0.132603  1.000000  0.088799  0.048647  0.264213\n",
      "user -0.007649  0.088799  1.000000 -0.904320  0.298332\n",
      "sys  -0.022921  0.048647 -0.904320  1.000000  0.100361\n",
      "rows  0.021041  0.264213  0.298332  0.100361  1.000000\n",
      "            no      real      user       sys      rows\n",
      "no    1.000000 -0.042940  0.042036  0.025847  0.021041\n",
      "real -0.042940  1.000000  0.144819  0.050422  0.497621\n",
      "user  0.042036  0.144819  1.000000 -0.907963  0.287890\n",
      "sys   0.025847  0.050422 -0.907963  1.000000  0.091235\n",
      "rows  0.021041  0.497621  0.287890  0.091235  1.000000\n",
      "            no      real      user       sys      rows\n",
      "no    1.000000 -0.021801  0.015196 -0.001355  0.021041\n",
      "real -0.021801  1.000000  0.155640  0.056101  0.484955\n",
      "user  0.015196  0.155640  1.000000 -0.895987  0.317729\n",
      "sys  -0.001355  0.056101 -0.895987  1.000000  0.085096\n",
      "rows  0.021041  0.484955  0.317729  0.085096  1.000000\n"
     ]
    }
   ],
   "source": [
    "#Correlation matrix for each of the schemas\n",
    "print(old_schema.corr(method ='pearson'))\n",
    "print(c_schema.corr(method ='pearson'))\n",
    "print(m_schema.corr(method ='pearson'))"
   ]
  },
  {
   "cell_type": "markdown",
   "metadata": {},
   "source": [
    "Interestingly, we can see that there is a very strong negative correlation between sys and user running time, so we can narrow down our comparisons to real and user running time."
   ]
  },
  {
   "cell_type": "code",
   "execution_count": 28,
   "metadata": {},
   "outputs": [],
   "source": [
    "#summary data for real running-time\n",
    "summary_real = pd.DataFrame(\n",
    "   {\n",
    "      \"average_\": [],\n",
    "      \"max_\": [],\n",
    "      \"min_\": []\n",
    "   }\n",
    ")\n",
    "\n",
    "for i, j in enumerate([old_stats_real, c_stats_real, m_stats_real]):\n",
    "   summary_real.loc[i] = j\n",
    "summary_real = summary_real.rename(index={0: \"Old\", 1: \"C_Schema\", 2: \"M_Schema\"})"
   ]
  },
  {
   "cell_type": "code",
   "execution_count": 29,
   "metadata": {},
   "outputs": [
    {
     "data": {
      "text/html": [
       "<div>\n",
       "<style scoped>\n",
       "    .dataframe tbody tr th:only-of-type {\n",
       "        vertical-align: middle;\n",
       "    }\n",
       "\n",
       "    .dataframe tbody tr th {\n",
       "        vertical-align: top;\n",
       "    }\n",
       "\n",
       "    .dataframe thead th {\n",
       "        text-align: right;\n",
       "    }\n",
       "</style>\n",
       "<table border=\"1\" class=\"dataframe\">\n",
       "  <thead>\n",
       "    <tr style=\"text-align: right;\">\n",
       "      <th></th>\n",
       "      <th>average_</th>\n",
       "      <th>max_</th>\n",
       "      <th>min_</th>\n",
       "    </tr>\n",
       "  </thead>\n",
       "  <tbody>\n",
       "    <tr>\n",
       "      <th>Old</th>\n",
       "      <td>0.028</td>\n",
       "      <td>17.121</td>\n",
       "      <td>0.005</td>\n",
       "    </tr>\n",
       "    <tr>\n",
       "      <th>C_Schema</th>\n",
       "      <td>0.061</td>\n",
       "      <td>15.997</td>\n",
       "      <td>0.005</td>\n",
       "    </tr>\n",
       "    <tr>\n",
       "      <th>M_Schema</th>\n",
       "      <td>0.062</td>\n",
       "      <td>12.788</td>\n",
       "      <td>0.005</td>\n",
       "    </tr>\n",
       "  </tbody>\n",
       "</table>\n",
       "</div>"
      ],
      "text/plain": [
       "          average_    max_   min_\n",
       "Old          0.028  17.121  0.005\n",
       "C_Schema     0.061  15.997  0.005\n",
       "M_Schema     0.062  12.788  0.005"
      ]
     },
     "execution_count": 29,
     "metadata": {},
     "output_type": "execute_result"
    }
   ],
   "source": [
    "#view of the real running-time dataframe\n",
    "summary_real"
   ]
  },
  {
   "cell_type": "code",
   "execution_count": 30,
   "metadata": {},
   "outputs": [
    {
     "data": {
      "image/png": "[encoded data removed]",
      "text/plain": [
       "<Figure size 576x432 with 2 Axes>"
      ]
     },
     "metadata": {
      "needs_background": "light"
     },
     "output_type": "display_data"
    }
   ],
   "source": [
    "fig,ax = plt.subplots(figsize=(8,6))\n",
    "\n",
    "labels = summary_real.index.tolist()\n",
    "\n",
    "x = np.arange(len(labels))\n",
    "\n",
    "ax2 = ax.twinx()\n",
    "\n",
    "ax.set_xlim(-0.5, 2.5)\n",
    "ax.set_ylim(0, summary_real[\"average_\"].max()*1.25)\n",
    "ax2.set_ylim(0, summary_real[\"max_\"].max()*1.25)\n",
    "\n",
    "ax.set_xlabel('Schemas')\n",
    "\n",
    "color=['firebrick','red','darksalmon']\n",
    "width = 0.1\n",
    "p1 = ax.bar(x-(width), summary_real['min_'], width=width, color=color[0], align='center', label=r'Min')\n",
    "p2 = ax.bar(x, summary_real['average_'], width=width, color=color[1], align='center', label=r'Average')\n",
    "p3 = ax2.bar(x+width, summary_real['max_'], width=width, color=color[2], align='center', label=r'Max')\n",
    "\n",
    "lns = [p1,p2,p3]\n",
    "ax.legend(handles=lns, loc='best')\n",
    "\n",
    "ax.set_xticks(x)\n",
    "ax.set_xticklabels(labels)\n",
    "\n",
    "ax.set_title(\"Summary Statistics for Real Time for the Three Schemas\",fontsize=10, weight='bold')\n",
    "fig.show()"
   ]
  },
  {
   "cell_type": "code",
   "execution_count": 31,
   "metadata": {},
   "outputs": [],
   "source": [
    "#summary data for user running-time\n",
    "summary_user = pd.DataFrame(\n",
    "   {\n",
    "      \"average_\": [],\n",
    "      \"max_\": [],\n",
    "      \"min_\": []\n",
    "   }\n",
    ")\n",
    "\n",
    "for i, j in enumerate([old_stats_user, c_stats_user, m_stats_user]):\n",
    "   summary_user.loc[i] = j\n",
    "summary_user = summary_user.rename(index={0: \"Old\", 1: \"C_Schema\", 2: \"M_Schema\"})"
   ]
  },
  {
   "cell_type": "code",
   "execution_count": 32,
   "metadata": {},
   "outputs": [
    {
     "data": {
      "text/html": [
       "<div>\n",
       "<style scoped>\n",
       "    .dataframe tbody tr th:only-of-type {\n",
       "        vertical-align: middle;\n",
       "    }\n",
       "\n",
       "    .dataframe tbody tr th {\n",
       "        vertical-align: top;\n",
       "    }\n",
       "\n",
       "    .dataframe thead th {\n",
       "        text-align: right;\n",
       "    }\n",
       "</style>\n",
       "<table border=\"1\" class=\"dataframe\">\n",
       "  <thead>\n",
       "    <tr style=\"text-align: right;\">\n",
       "      <th></th>\n",
       "      <th>average_</th>\n",
       "      <th>max_</th>\n",
       "      <th>min_</th>\n",
       "    </tr>\n",
       "  </thead>\n",
       "  <tbody>\n",
       "    <tr>\n",
       "      <th>Old</th>\n",
       "      <td>0.004</td>\n",
       "      <td>0.024</td>\n",
       "      <td>0.0</td>\n",
       "    </tr>\n",
       "    <tr>\n",
       "      <th>C_Schema</th>\n",
       "      <td>0.004</td>\n",
       "      <td>0.025</td>\n",
       "      <td>0.0</td>\n",
       "    </tr>\n",
       "    <tr>\n",
       "      <th>M_Schema</th>\n",
       "      <td>0.004</td>\n",
       "      <td>0.026</td>\n",
       "      <td>0.0</td>\n",
       "    </tr>\n",
       "  </tbody>\n",
       "</table>\n",
       "</div>"
      ],
      "text/plain": [
       "          average_   max_  min_\n",
       "Old          0.004  0.024   0.0\n",
       "C_Schema     0.004  0.025   0.0\n",
       "M_Schema     0.004  0.026   0.0"
      ]
     },
     "execution_count": 32,
     "metadata": {},
     "output_type": "execute_result"
    }
   ],
   "source": [
    "#view of the user running-time dataframe\n",
    "summary_user"
   ]
  },
  {
   "cell_type": "code",
   "execution_count": 33,
   "metadata": {},
   "outputs": [
    {
     "data": {
      "image/png": "[encoded data removed]",
      "text/plain": [
       "<Figure size 576x432 with 2 Axes>"
      ]
     },
     "metadata": {
      "needs_background": "light"
     },
     "output_type": "display_data"
    }
   ],
   "source": [
    "fig,ax = plt.subplots(figsize=(8,6))\n",
    "\n",
    "labels = summary_user.index.tolist()\n",
    "\n",
    "x = np.arange(len(labels))\n",
    "\n",
    "ax2 = ax.twinx()\n",
    "\n",
    "ax.set_xlim(-0.5, 2.5)\n",
    "ax.set_ylim(0, summary_user[\"average_\"].max()*1.25)\n",
    "ax2.set_ylim(0, summary_user[\"max_\"].max()*1.25)\n",
    "\n",
    "ax.set_xlabel('Schemas')\n",
    "\n",
    "color=['firebrick','red','darksalmon']\n",
    "width = 0.1\n",
    "p1 = ax.bar(x-(width), summary_user['min_'], width=width, color=color[0], align='center', label=r'Min')\n",
    "p2 = ax.bar(x, summary_user['average_'], width=width, color=color[1], align='center', label=r'Average')\n",
    "p3 = ax2.bar(x+width, summary_user['max_'], width=width, color=color[2], align='center', label=r'Max')\n",
    "\n",
    "lns = [p1,p2,p3]\n",
    "ax.legend(handles=lns, loc='best')\n",
    "\n",
    "ax.set_xticks(x)\n",
    "ax.set_xticklabels(labels)\n",
    "\n",
    "ax.set_title(\"Summary Statistics for User Time for the Three Schemas\", fontsize=10, weight='bold')\n",
    "fig.show()"
   ]
  },
  {
   "cell_type": "markdown",
   "metadata": {},
   "source": [
    "The results for real time show us that the old system on an average performed better compared to the new schemas but for certain queries it ran longer and had the worst max run time for a query (almost similar to the C schema run-time). M schema had the best max run-time, implying that it never took too long. This shows that C schema overall does not outperform the old schema or M schema in any factor of measure.\n",
    "\n",
    "The results for the user time do not show too much difference; the plot only indicates that the old schema worked well with the user time as well."
   ]
  },
  {
   "cell_type": "markdown",
   "metadata": {},
   "source": [
    "The analyses conducted has only considered factors individually for the running-time for the three schemas. The results show that on an average the old schema had the best real running-time. The M schema had the best worst running-time compared to the other schemas. The user running-time does not fluctuate significantly for the three schemas. However, it would be important to evaluate and compare if there could be potentially significant differences in the real running-time when we compare across different axes."
   ]
  },
  {
   "cell_type": "code",
   "execution_count": 34,
   "metadata": {},
   "outputs": [
    {
     "name": "stdout",
     "output_type": "stream",
     "text": [
      "['1' '2' '50' '5' 'STAR' '200'] ['1'] ['120' '1' '3' '48' '54' '59' '10' '112' '119' '11' '126' '12' '13' '149'\n",
      " '14' '15' '16' '17' '18' '19' '20' '21' '22' '23' '24' '25' '26' '27'\n",
      " '28' '29' '2' '30' '31' '32' '33' '34' '35' '36' '37' '38' '39' '40' '41'\n",
      " '42' '43' '44' '45' '46' '47' '49' '4' '50' '51' '52' '53' '55' '56' '57'\n",
      " '58' '5' '60' '61' '62' '63' '64' '65' '66' '68' '6' '70' '79' '7' '84'\n",
      " '8' '91' '98' '9' '1953' '196'] ['1' 'RANGE']\n"
     ]
    }
   ],
   "source": [
    "#We check the different range of values for the given axes\n",
    "geo_range = old_schema['geo'].unique()\n",
    "signal_range = old_schema['signal'].unique()\n",
    "time_range = old_schema['time'].unique()\n",
    "publication_range = old_schema['publication'].unique()\n",
    "print(geo_range, signal_range, time_range, publication_range)"
   ]
  },
  {
   "cell_type": "code",
   "execution_count": 35,
   "metadata": {},
   "outputs": [],
   "source": [
    "#Creates a dataframe with only the geo axis and the real time for the three schemas\n",
    "real_geo = pd.concat([old_schema['geo'], old_schema['real'], c_schema['real'], m_schema['real']], axis=1, keys=['geo', 'Old', 'C', 'M'])"
   ]
  },
  {
   "cell_type": "code",
   "execution_count": 36,
   "metadata": {},
   "outputs": [
    {
     "data": {
      "text/plain": [
       "geo         inf\n",
       "Old    0.079955\n",
       "C      0.070294\n",
       "M      0.064459\n",
       "dtype: float64"
      ]
     },
     "execution_count": 36,
     "metadata": {},
     "output_type": "execute_result"
    }
   ],
   "source": [
    "#code to get the mean for geo 1 for each schema\n",
    "real_geo.loc[real_geo['geo']=='1'].mean()"
   ]
  },
  {
   "cell_type": "code",
   "execution_count": 37,
   "metadata": {},
   "outputs": [
    {
     "data": {
      "text/plain": [
       "Text(0, 0.5, 'Real Running-Time')"
      ]
     },
     "execution_count": 37,
     "metadata": {},
     "output_type": "execute_result"
    },
    {
     "data": {
      "image/png": "[encoded data removed]",
      "text/plain": [
       "<Figure size 480x320 with 1 Axes>"
      ]
     },
     "metadata": {
      "needs_background": "light"
     },
     "output_type": "display_data"
    }
   ],
   "source": [
    "figure(figsize=(6, 4), dpi=80)\n",
    "plt.scatter(real_geo[\"geo\"], real_geo[\"Old\"], alpha=0.8, color='b')\n",
    "plt.scatter(real_geo[\"geo\"], real_geo[\"C\"], alpha=0.5, color = 'g')\n",
    "plt.scatter(real_geo[\"geo\"], real_geo[\"M\"], alpha=0.1, color = 'darksalmon')\n",
    "plt.ylim(-0.5, 20)\n",
    "\n",
    "#line for old\n",
    "x=real_geo['geo'].unique()\n",
    "y1=[real_geo.loc[real_geo['geo']=='1'].mean()[1], real_geo.loc[real_geo['geo']=='2'].mean()[1], real_geo.loc[real_geo['geo']=='50'].mean()[1], real_geo.loc[real_geo['geo']=='5'].mean()[1], real_geo.loc[real_geo['geo']=='STAR'].mean()[1], real_geo.loc[real_geo['geo']=='200'].mean()[1]]\n",
    "plt.plot(x, y1, '-o', color='b', label=\"Average Old\")\n",
    "\n",
    "#line for C\n",
    "y2=[real_geo.loc[real_geo['geo']=='1'].mean()[2], real_geo.loc[real_geo['geo']=='2'].mean()[2], real_geo.loc[real_geo['geo']=='50'].mean()[2], real_geo.loc[real_geo['geo']=='5'].mean()[2], real_geo.loc[real_geo['geo']=='STAR'].mean()[2], real_geo.loc[real_geo['geo']=='200'].mean()[2]]\n",
    "plt.plot(x, y2, '-o', color='g', label=\"Average C\")\n",
    "\n",
    "#line for M\n",
    "y3=[real_geo.loc[real_geo['geo']=='1'].mean()[3], real_geo.loc[real_geo['geo']=='2'].mean()[3], real_geo.loc[real_geo['geo']=='50'].mean()[3], real_geo.loc[real_geo['geo']=='5'].mean()[3], 0, real_geo.loc[real_geo['geo']=='200'].mean()[3]]\n",
    "plt.plot(x, y3, '-o', color='darksalmon', label=\"Average M\")\n",
    "plt.legend(loc='best')\n",
    "\n",
    "plt.title(\"A Study of Real Running-Time vs Geo Categories\")\n",
    "plt.xlabel(\"Geo Axes Values\")\n",
    "plt.ylabel(\"Real Running-Time\")"
   ]
  },
  {
   "cell_type": "code",
   "execution_count": 38,
   "metadata": {},
   "outputs": [],
   "source": [
    "#Creates a dataframe with only the time axis and the real time for the three schemas\n",
    "real_time = pd.concat([old_schema['time'], old_schema['real'], c_schema['real'], m_schema['real']], axis=1, keys=['time', 'Old', 'C', 'M'])"
   ]
  },
  {
   "cell_type": "code",
   "execution_count": 39,
   "metadata": {},
   "outputs": [
    {
     "data": {
      "text/plain": [
       "Text(0, 0.5, 'Real Running-Time')"
      ]
     },
     "execution_count": 39,
     "metadata": {},
     "output_type": "execute_result"
    },
    {
     "data": {
      "image/png": "[encoded data removed]",
      "text/plain": [
       "<Figure size 480x320 with 1 Axes>"
      ]
     },
     "metadata": {
      "needs_background": "light"
     },
     "output_type": "display_data"
    }
   ],
   "source": [
    "figure(figsize=(6, 4), dpi=80)\n",
    "\n",
    "#line for old\n",
    "x=[\"less than \" + str(statistics.median([int(x) for x in real_time['time'].unique()])), \"greater than \" + str(statistics.median([int(x) for x in real_time['time'].unique()]))]\n",
    "y1=[real_time.loc[real_time['time']<=str(statistics.median([int(x) for x in real_time['time'].unique()]))].mean()[1], real_time.loc[real_time['time']>str(statistics.median([int(x) for x in real_time['time'].unique()]))].mean()[1]]\n",
    "plt.plot(x, y1, '-o', color='b', label=\"Average Old\")\n",
    "\n",
    "#line for C\n",
    "y2=[real_time.loc[real_time['time']<=str(statistics.median([int(x) for x in real_time['time'].unique()]))].mean()[2], real_time.loc[real_time['time']>str(statistics.median([int(x) for x in real_time['time'].unique()]))].mean()[2]]\n",
    "plt.plot(x, y2, '-o', color='g', label=\"Average C\")\n",
    "\n",
    "#line for M\n",
    "y3=[real_time.loc[real_time['time']<=str(statistics.median([int(x) for x in real_time['time'].unique()]))].mean()[3], real_time.loc[real_time['time']>str(statistics.median([int(x) for x in real_time['time'].unique()]))].mean()[3]]\n",
    "plt.plot(x, y3, '-o', color='darksalmon', label=\"Average M\")\n",
    "\n",
    "plt.legend(loc='best')\n",
    "plt.title(\"A Study of Real Running-Time vs Time Categories\")\n",
    "plt.xlabel(\"Time Axes Values\")\n",
    "plt.ylabel(\"Real Running-Time\")"
   ]
  },
  {
   "cell_type": "code",
   "execution_count": 40,
   "metadata": {},
   "outputs": [],
   "source": [
    "#Creates a dataframe with only the publication axis and the real time for the three schemas\n",
    "real_publication = pd.concat([old_schema['publication'], old_schema['real'], c_schema['real'], m_schema['real']], axis=1, keys=['publication', 'Old', 'C', 'M'])"
   ]
  },
  {
   "cell_type": "code",
   "execution_count": 41,
   "metadata": {},
   "outputs": [
    {
     "data": {
      "text/plain": [
       "Text(0, 0.5, 'Real Running-Time')"
      ]
     },
     "execution_count": 41,
     "metadata": {},
     "output_type": "execute_result"
    },
    {
     "data": {
      "image/png": "[encoded data removed]",
      "text/plain": [
       "<Figure size 480x320 with 1 Axes>"
      ]
     },
     "metadata": {
      "needs_background": "light"
     },
     "output_type": "display_data"
    }
   ],
   "source": [
    "#Plot for publication\n",
    "figure(figsize=(6, 4), dpi=80)\n",
    "\n",
    "#line for old\n",
    "x=real_publication['publication'].unique()\n",
    "y1=[real_publication.loc[real_publication['publication']==real_publication['publication'].unique()[0]].mean()[1], real_publication.loc[real_publication['publication']==real_publication['publication'].unique()[1]].mean()[1]]\n",
    "plt.plot(x, y1, '-o', color='b', label=\"Average Old\")\n",
    "\n",
    "#line for C\n",
    "y2=[real_publication.loc[real_publication['publication']==real_publication['publication'].unique()[0]].mean()[2], real_publication.loc[real_publication['publication']==real_publication['publication'].unique()[1]].mean()[2]]\n",
    "plt.plot(x, y2, '-o', color='g', label=\"Average C\")\n",
    "\n",
    "#line for M\n",
    "y3=[real_publication.loc[real_publication['publication']==real_publication['publication'].unique()[0]].mean()[3], 0]\n",
    "plt.plot(x, y3, '-o', color='darksalmon', label=\"Average M\")\n",
    "\n",
    "plt.legend(loc='best')\n",
    "plt.title(\"A Study of Real Running-Time vs Publication Categories\")\n",
    "plt.xlabel(\"Publication Axes Values\")\n",
    "plt.ylabel(\"Real Running-Time\")"
   ]
  },
  {
   "cell_type": "markdown",
   "metadata": {},
   "source": [
    "We had restricted our analyses to real running time. The last few plots helped us understand how the three schemas differed in their mean running time for the different values that were used for the four different axes. We did not consider the signal axis for analysis as the signal axis only had one value of 1. Therefore, the analyses was conducted on the remaining three axes. We discovered that the schema M had the best running time for all geo values except 200. This is contrary to what we had discovered that the old schema was generally the best. For the queries that had data collected for time value less than 40, we discovered that the old schema performed the best in terms of the running time. Finally, the publication axis showed mixed results, where M was the best for a range of publication values and the old schema was the best performer for the publication axis values as 1 for the four different categories - lag, latest, asof, and issue."
   ]
  },
  {
   "cell_type": "markdown",
   "metadata": {},
   "source": [
    "The analyses considered only the real time as the user time produced similar results for the three schemas and the kernel time was highly negatively correlated with user time. This directioned the analyses towards real running time, which was further brought down to multiple axes values.\n",
    "\n",
    "The conducted analyses overall shows that the old schema outperformed the two new schemas in terms of real running-time. The advantage of the M schema was its worst case running time being 33% less than the worst case running time for both the old schema and C schema. C schema did not really show any advantages over the other two and the further detailed analyses on the basis of the axes solidifies the argument. The M schema performs better than the old schema for geo and publication as opposed to the old schema that outperforms the other two schema for time axis."
   ]
  }
 ],
 "metadata": {
  "kernelspec": {
   "display_name": "Python 3.9.12 ('base')",
   "language": "python",
   "name": "python3"
  },
  "language_info": {
   "codemirror_mode": {
    "name": "ipython",
    "version": 3
   },
   "file_extension": ".py",
   "mimetype": "text/x-python",
   "name": "python",
   "nbconvert_exporter": "python",
   "pygments_lexer": "ipython3",
   "version": "3.9.12"
  },
  "orig_nbformat": 4,
  "vscode": {
   "interpreter": {
    "hash": "e9dc8dcd4cdc8e6267a24972ac0f09aaf90dbdcf51b3ae9dee4f86fee0bfda21"
   }
  }
 },
 "nbformat": 4,
 "nbformat_minor": 2
}
